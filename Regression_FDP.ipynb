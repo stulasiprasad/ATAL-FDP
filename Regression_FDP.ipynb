{
 "cells": [
  {
   "cell_type": "code",
   "execution_count": 1,
   "metadata": {
    "colab": {
     "base_uri": "https://localhost:8080/",
     "height": 72
    },
    "colab_type": "code",
    "id": "zus_wATjV0Y5",
    "outputId": "4ab2714d-331c-4a7d-f831-8fe87ec81168"
   },
   "outputs": [],
   "source": [
    "import pandas as pd\n",
    "import numpy as np\n",
    "import matplotlib.pyplot as plt\n",
    "import seaborn as sns\n",
    "\n",
    "# rather than importing the whole sklearn library, we will import certain modules \n",
    "from sklearn.linear_model import LinearRegression\n",
    "from sklearn.ensemble import RandomForestRegressor\n",
    "from sklearn.datasets import load_boston\n",
    "from sklearn import model_selection\n",
    "from sklearn.preprocessing import StandardScaler\n",
    "from sklearn import metrics\n"
   ]
  },
  {
   "cell_type": "code",
   "execution_count": 2,
   "metadata": {
    "colab": {
     "base_uri": "https://localhost:8080/",
     "height": 923
    },
    "colab_type": "code",
    "id": "kNnAQvhuV0ZE",
    "outputId": "5dde712c-26f6-4229-9edf-96d7cf42c282"
   },
   "outputs": [],
   "source": [
    "# we load the dataset and save it as the variable boston\n",
    "boston = load_boston()"
   ]
  },
  {
   "cell_type": "code",
   "execution_count": 3,
   "metadata": {},
   "outputs": [
    {
     "data": {
      "text/plain": [
       "dict_keys(['data', 'target', 'feature_names', 'DESCR', 'filename'])"
      ]
     },
     "execution_count": 3,
     "metadata": {},
     "output_type": "execute_result"
    }
   ],
   "source": [
    "# if we want to know what sort of detail is provided with this dataset, we can call .keys()\n",
    "boston.keys()"
   ]
  },
  {
   "cell_type": "code",
   "execution_count": 4,
   "metadata": {
    "colab": {
     "base_uri": "https://localhost:8080/",
     "height": 206
    },
    "colab_type": "code",
    "id": "ppIf0aBwV0ZT",
    "outputId": "7af63c67-e592-4b01-dfa8-9bbab718eb47"
   },
   "outputs": [
    {
     "data": {
      "text/html": [
       "<div>\n",
       "<style scoped>\n",
       "    .dataframe tbody tr th:only-of-type {\n",
       "        vertical-align: middle;\n",
       "    }\n",
       "\n",
       "    .dataframe tbody tr th {\n",
       "        vertical-align: top;\n",
       "    }\n",
       "\n",
       "    .dataframe thead th {\n",
       "        text-align: right;\n",
       "    }\n",
       "</style>\n",
       "<table border=\"1\" class=\"dataframe\">\n",
       "  <thead>\n",
       "    <tr style=\"text-align: right;\">\n",
       "      <th></th>\n",
       "      <th>CRIM</th>\n",
       "      <th>ZN</th>\n",
       "      <th>INDUS</th>\n",
       "      <th>CHAS</th>\n",
       "      <th>NOX</th>\n",
       "      <th>RM</th>\n",
       "      <th>AGE</th>\n",
       "      <th>DIS</th>\n",
       "      <th>RAD</th>\n",
       "      <th>TAX</th>\n",
       "      <th>PTRATIO</th>\n",
       "      <th>B</th>\n",
       "      <th>LSTAT</th>\n",
       "    </tr>\n",
       "  </thead>\n",
       "  <tbody>\n",
       "    <tr>\n",
       "      <th>0</th>\n",
       "      <td>0.00632</td>\n",
       "      <td>18.0</td>\n",
       "      <td>2.31</td>\n",
       "      <td>0.0</td>\n",
       "      <td>0.538</td>\n",
       "      <td>6.575</td>\n",
       "      <td>65.2</td>\n",
       "      <td>4.0900</td>\n",
       "      <td>1.0</td>\n",
       "      <td>296.0</td>\n",
       "      <td>15.3</td>\n",
       "      <td>396.90</td>\n",
       "      <td>4.98</td>\n",
       "    </tr>\n",
       "    <tr>\n",
       "      <th>1</th>\n",
       "      <td>0.02731</td>\n",
       "      <td>0.0</td>\n",
       "      <td>7.07</td>\n",
       "      <td>0.0</td>\n",
       "      <td>0.469</td>\n",
       "      <td>6.421</td>\n",
       "      <td>78.9</td>\n",
       "      <td>4.9671</td>\n",
       "      <td>2.0</td>\n",
       "      <td>242.0</td>\n",
       "      <td>17.8</td>\n",
       "      <td>396.90</td>\n",
       "      <td>9.14</td>\n",
       "    </tr>\n",
       "    <tr>\n",
       "      <th>2</th>\n",
       "      <td>0.02729</td>\n",
       "      <td>0.0</td>\n",
       "      <td>7.07</td>\n",
       "      <td>0.0</td>\n",
       "      <td>0.469</td>\n",
       "      <td>7.185</td>\n",
       "      <td>61.1</td>\n",
       "      <td>4.9671</td>\n",
       "      <td>2.0</td>\n",
       "      <td>242.0</td>\n",
       "      <td>17.8</td>\n",
       "      <td>392.83</td>\n",
       "      <td>4.03</td>\n",
       "    </tr>\n",
       "    <tr>\n",
       "      <th>3</th>\n",
       "      <td>0.03237</td>\n",
       "      <td>0.0</td>\n",
       "      <td>2.18</td>\n",
       "      <td>0.0</td>\n",
       "      <td>0.458</td>\n",
       "      <td>6.998</td>\n",
       "      <td>45.8</td>\n",
       "      <td>6.0622</td>\n",
       "      <td>3.0</td>\n",
       "      <td>222.0</td>\n",
       "      <td>18.7</td>\n",
       "      <td>394.63</td>\n",
       "      <td>2.94</td>\n",
       "    </tr>\n",
       "    <tr>\n",
       "      <th>4</th>\n",
       "      <td>0.06905</td>\n",
       "      <td>0.0</td>\n",
       "      <td>2.18</td>\n",
       "      <td>0.0</td>\n",
       "      <td>0.458</td>\n",
       "      <td>7.147</td>\n",
       "      <td>54.2</td>\n",
       "      <td>6.0622</td>\n",
       "      <td>3.0</td>\n",
       "      <td>222.0</td>\n",
       "      <td>18.7</td>\n",
       "      <td>396.90</td>\n",
       "      <td>5.33</td>\n",
       "    </tr>\n",
       "  </tbody>\n",
       "</table>\n",
       "</div>"
      ],
      "text/plain": [
       "      CRIM    ZN  INDUS  CHAS    NOX     RM   AGE     DIS  RAD    TAX  \\\n",
       "0  0.00632  18.0   2.31   0.0  0.538  6.575  65.2  4.0900  1.0  296.0   \n",
       "1  0.02731   0.0   7.07   0.0  0.469  6.421  78.9  4.9671  2.0  242.0   \n",
       "2  0.02729   0.0   7.07   0.0  0.469  7.185  61.1  4.9671  2.0  242.0   \n",
       "3  0.03237   0.0   2.18   0.0  0.458  6.998  45.8  6.0622  3.0  222.0   \n",
       "4  0.06905   0.0   2.18   0.0  0.458  7.147  54.2  6.0622  3.0  222.0   \n",
       "\n",
       "   PTRATIO       B  LSTAT  \n",
       "0     15.3  396.90   4.98  \n",
       "1     17.8  396.90   9.14  \n",
       "2     17.8  392.83   4.03  \n",
       "3     18.7  394.63   2.94  \n",
       "4     18.7  396.90   5.33  "
      ]
     },
     "execution_count": 4,
     "metadata": {},
     "output_type": "execute_result"
    }
   ],
   "source": [
    "# we can use pandas to create a dataframe, which is basically a way of storing and operating on tabular data \n",
    "# here we pass in both the data and the column names as variables\n",
    "boston_X = pd.DataFrame(boston.data, columns = boston.feature_names)\n",
    "\n",
    "# we can then look at the top of the dataframe to see the sort of values it contains\n",
    "boston_X.head()"
   ]
  },
  {
   "cell_type": "code",
   "execution_count": 5,
   "metadata": {},
   "outputs": [
    {
     "name": "stdout",
     "output_type": "stream",
     "text": [
      ".. _boston_dataset:\n",
      "\n",
      "Boston house prices dataset\n",
      "---------------------------\n",
      "\n",
      "**Data Set Characteristics:**  \n",
      "\n",
      "    :Number of Instances: 506 \n",
      "\n",
      "    :Number of Attributes: 13 numeric/categorical predictive. Median Value (attribute 14) is usually the target.\n",
      "\n",
      "    :Attribute Information (in order):\n",
      "        - CRIM     per capita crime rate by town\n",
      "        - ZN       proportion of residential land zoned for lots over 25,000 sq.ft.\n",
      "        - INDUS    proportion of non-retail business acres per town\n",
      "        - CHAS     Charles River dummy variable (= 1 if tract bounds river; 0 otherwise)\n",
      "        - NOX      nitric oxides concentration (parts per 10 million)\n",
      "        - RM       average number of rooms per dwelling\n",
      "        - AGE      proportion of owner-occupied units built prior to 1940\n",
      "        - DIS      weighted distances to five Boston employment centres\n",
      "        - RAD      index of accessibility to radial highways\n",
      "        - TAX      full-value property-tax rate per $10,000\n",
      "        - PTRATIO  pupil-teacher ratio by town\n",
      "        - B        1000(Bk - 0.63)^2 where Bk is the proportion of blacks by town\n",
      "        - LSTAT    % lower status of the population\n",
      "        - MEDV     Median value of owner-occupied homes in $1000's\n",
      "\n",
      "    :Missing Attribute Values: None\n",
      "\n",
      "    :Creator: Harrison, D. and Rubinfeld, D.L.\n",
      "\n",
      "This is a copy of UCI ML housing dataset.\n",
      "https://archive.ics.uci.edu/ml/machine-learning-databases/housing/\n",
      "\n",
      "\n",
      "This dataset was taken from the StatLib library which is maintained at Carnegie Mellon University.\n",
      "\n",
      "The Boston house-price data of Harrison, D. and Rubinfeld, D.L. 'Hedonic\n",
      "prices and the demand for clean air', J. Environ. Economics & Management,\n",
      "vol.5, 81-102, 1978.   Used in Belsley, Kuh & Welsch, 'Regression diagnostics\n",
      "...', Wiley, 1980.   N.B. Various transformations are used in the table on\n",
      "pages 244-261 of the latter.\n",
      "\n",
      "The Boston house-price data has been used in many machine learning papers that address regression\n",
      "problems.   \n",
      "     \n",
      ".. topic:: References\n",
      "\n",
      "   - Belsley, Kuh & Welsch, 'Regression diagnostics: Identifying Influential Data and Sources of Collinearity', Wiley, 1980. 244-261.\n",
      "   - Quinlan,R. (1993). Combining Instance-Based and Model-Based Learning. In Proceedings on the Tenth International Conference of Machine Learning, 236-243, University of Massachusetts, Amherst. Morgan Kaufmann.\n",
      "\n"
     ]
    }
   ],
   "source": [
    "# the info at the .DESCR key will tell us more \n",
    "print(boston.DESCR)"
   ]
  },
  {
   "cell_type": "code",
   "execution_count": 6,
   "metadata": {
    "colab": {
     "base_uri": "https://localhost:8080/",
     "height": 208
    },
    "colab_type": "code",
    "id": "5bUVzRTKV0Ze",
    "outputId": "0439f9c3-b9b3-4180-b7e9-42f9af8a1fcd"
   },
   "outputs": [
    {
     "name": "stdout",
     "output_type": "stream",
     "text": [
      "             CRIM          ZN       INDUS        CHAS         NOX          RM  \\\n",
      "count  506.000000  506.000000  506.000000  506.000000  506.000000  506.000000   \n",
      "mean     3.613524   11.363636   11.136779    0.069170    0.554695    6.284634   \n",
      "std      8.601545   23.322453    6.860353    0.253994    0.115878    0.702617   \n",
      "min      0.006320    0.000000    0.460000    0.000000    0.385000    3.561000   \n",
      "25%      0.082045    0.000000    5.190000    0.000000    0.449000    5.885500   \n",
      "50%      0.256510    0.000000    9.690000    0.000000    0.538000    6.208500   \n",
      "75%      3.677083   12.500000   18.100000    0.000000    0.624000    6.623500   \n",
      "max     88.976200  100.000000   27.740000    1.000000    0.871000    8.780000   \n",
      "\n",
      "              AGE         DIS         RAD         TAX     PTRATIO           B  \\\n",
      "count  506.000000  506.000000  506.000000  506.000000  506.000000  506.000000   \n",
      "mean    68.574901    3.795043    9.549407  408.237154   18.455534  356.674032   \n",
      "std     28.148861    2.105710    8.707259  168.537116    2.164946   91.294864   \n",
      "min      2.900000    1.129600    1.000000  187.000000   12.600000    0.320000   \n",
      "25%     45.025000    2.100175    4.000000  279.000000   17.400000  375.377500   \n",
      "50%     77.500000    3.207450    5.000000  330.000000   19.050000  391.440000   \n",
      "75%     94.075000    5.188425   24.000000  666.000000   20.200000  396.225000   \n",
      "max    100.000000   12.126500   24.000000  711.000000   22.000000  396.900000   \n",
      "\n",
      "            LSTAT  \n",
      "count  506.000000  \n",
      "mean    12.653063  \n",
      "std      7.141062  \n",
      "min      1.730000  \n",
      "25%      6.950000  \n",
      "50%     11.360000  \n",
      "75%     16.955000  \n",
      "max     37.970000  \n"
     ]
    }
   ],
   "source": [
    "# pandas has a lot of functionality to assist with exploratory data analysis\n",
    "# .describe() provide summary statistics on all numeric columns\n",
    "print(boston_X.describe())"
   ]
  },
  {
   "cell_type": "code",
   "execution_count": 7,
   "metadata": {
    "colab": {
     "base_uri": "https://localhost:8080/",
     "height": 34
    },
    "colab_type": "code",
    "id": "kI4G_5RvV0Zo",
    "outputId": "8be3d5c5-a669-458a-c261-8b116bdeb029"
   },
   "outputs": [
    {
     "name": "stdout",
     "output_type": "stream",
     "text": [
      "(506, 13)\n"
     ]
    }
   ],
   "source": [
    "# we can also see the shape of the data\n",
    "print(boston_X.shape)"
   ]
  },
  {
   "cell_type": "code",
   "execution_count": 8,
   "metadata": {
    "colab": {
     "base_uri": "https://localhost:8080/",
     "height": 1000
    },
    "colab_type": "code",
    "id": "OM--5hE4V0Zx",
    "outputId": "75a66124-5d4e-47e7-a139-135b9c39ca6e"
   },
   "outputs": [
    {
     "data": {
      "image/png": "[encoded data removed]",
      "text/plain": [
       "<Figure size 864x432 with 2 Axes>"
      ]
     },
     "metadata": {},
     "output_type": "display_data"
    },
    {
     "data": {
      "image/png": "[encoded data removed]",
      "text/plain": [
       "<Figure size 864x432 with 2 Axes>"
      ]
     },
     "metadata": {},
     "output_type": "display_data"
    },
    {
     "data": {
      "image/png": "[encoded data removed]",
      "text/plain": [
       "<Figure size 864x432 with 2 Axes>"
      ]
     },
     "metadata": {},
     "output_type": "display_data"
    },
    {
     "data": {
      "image/png": "[encoded data removed]",
      "text/plain": [
       "<Figure size 864x432 with 2 Axes>"
      ]
     },
     "metadata": {},
     "output_type": "display_data"
    },
    {
     "data": {
      "image/png": "[encoded data removed]",
      "text/plain": [
       "<Figure size 864x432 with 2 Axes>"
      ]
     },
     "metadata": {},
     "output_type": "display_data"
    },
    {
     "data": {
      "image/png": "[encoded data removed]",
      "text/plain": [
       "<Figure size 864x432 with 2 Axes>"
      ]
     },
     "metadata": {},
     "output_type": "display_data"
    },
    {
     "data": {
      "image/png": "[encoded data removed]",
      "text/plain": [
       "<Figure size 864x432 with 2 Axes>"
      ]
     },
     "metadata": {},
     "output_type": "display_data"
    },
    {
     "data": {
      "image/png": "[encoded data removed]",
      "text/plain": [
       "<Figure size 864x432 with 2 Axes>"
      ]
     },
     "metadata": {},
     "output_type": "display_data"
    },
    {
     "data": {
      "image/png": "[encoded data removed]",
      "text/plain": [
       "<Figure size 864x432 with 2 Axes>"
      ]
     },
     "metadata": {},
     "output_type": "display_data"
    },
    {
     "data": {
      "image/png": "[encoded data removed]",
      "text/plain": [
       "<Figure size 864x432 with 2 Axes>"
      ]
     },
     "metadata": {},
     "output_type": "display_data"
    },
    {
     "data": {
      "image/png": "[encoded data removed]",
      "text/plain": [
       "<Figure size 864x432 with 2 Axes>"
      ]
     },
     "metadata": {},
     "output_type": "display_data"
    },
    {
     "data": {
      "image/png": "[encoded data removed]",
      "text/plain": [
       "<Figure size 864x432 with 2 Axes>"
      ]
     },
     "metadata": {},
     "output_type": "display_data"
    },
    {
     "data": {
      "image/png": "[encoded data removed]",
      "text/plain": [
       "<Figure size 864x432 with 2 Axes>"
      ]
     },
     "metadata": {},
     "output_type": "display_data"
    }
   ],
   "source": [
    "\"\"\"* For each feature, we can see the `count`, or number of data entries, the `mean` value, and the `standard deviation`, `min`, `max` and `quartile` values. \n",
    "* We can see that the range of values for each feature differs quite a lot, so we can start to think about whether to apply normalization to the data. \n",
    "* We can also see that the `CHAS` faeture is either a `(1,0)` value. If we look back at our description, we can see that this is an example of a `categorical` variable. These are values used to describe non-numeric data. In this case,  a `1` indicates the house borders near the river, and a `0` that it doesn't.\n",
    "\"\"\"\n",
    "\n",
    "# we can build on this analysis by plotting the distribution and boxplots for each column\n",
    "\n",
    "# we loop through all the columns\n",
    "for col in boston_X.columns:\n",
    "    # and for each column we create space for one row with 2 charts \n",
    "    f, axes = plt.subplots(1, 2, figsize=(12, 6))\n",
    "    # our first chart is a histogram and we set the title \n",
    "    boston_X[col].hist(bins = 30, ax = axes[0])\n",
    "    axes[0].set_title('Distribution of '+ col)\n",
    "    # our second column is the boxplot \n",
    "    boston_X.boxplot(column = col, ax = axes[1])\n",
    "    # we then use this to command to display the charts\n",
    "    plt.show()"
   ]
  },
  {
   "cell_type": "code",
   "execution_count": 9,
   "metadata": {
    "colab": {
     "base_uri": "https://localhost:8080/",
     "height": 281
    },
    "colab_type": "code",
    "id": "mloXs7-DV0Z7",
    "outputId": "31c4d362-d6c9-4664-8be0-e55aade921f6"
   },
   "outputs": [
    {
     "data": {
      "image/png": "[encoded data removed]",
      "text/plain": [
       "<Figure size 432x288 with 1 Axes>"
      ]
     },
     "metadata": {},
     "output_type": "display_data"
    }
   ],
   "source": [
    "\n",
    "\"\"\"* A `histogram` tells is the number of times, or frequency, a value occurs within a `bin`, or bucket, that splits the data (and which we defined). A histogram shows the frequency with which values occur within each of these bins, and can tell us about the distribution of data. \n",
    "* A `boxplot` captures within the box the `interquartile range`, the range of values from Q1/25th percentile to Q3/75th percentile, and the median value. It also captures the `min` and `max` values of each feature.\n",
    "* Together, these charts show us the distribution of values for each feature. We can start to make judgements about how to treat the data, for example whether we want to deal with outliers; or whether we want to normalize the data.\n",
    "\"\"\"\n",
    "\n",
    "# we can now look at our target variable \n",
    "boston_y = boston.target\n",
    "# we can plot a histogram in a slightly different way \n",
    "plt.hist(boston_y, bins = 40)\n",
    "plt.title('Housing price distribution, $K')\n",
    "plt.show()"
   ]
  },
  {
   "cell_type": "code",
   "execution_count": 10,
   "metadata": {
    "colab": {
     "base_uri": "https://localhost:8080/",
     "height": 281
    },
    "colab_type": "code",
    "id": "e3gH56wJV0aG",
    "outputId": "5cd1afcd-6a9a-4c0d-96e6-c1d382be20ae"
   },
   "outputs": [
    {
     "data": {
      "image/png": "[encoded data removed]",
      "text/plain": [
       "<Figure size 432x288 with 1 Axes>"
      ]
     },
     "metadata": {},
     "output_type": "display_data"
    }
   ],
   "source": [
    "# and the same for the boxplot\n",
    "plt.boxplot(boston_y)\n",
    "plt.title('Box plot for housing price.')\n",
    "plt.show()\n"
   ]
  },
  {
   "cell_type": "code",
   "execution_count": 9,
   "metadata": {
    "colab": {
     "base_uri": "https://localhost:8080/",
     "height": 361
    },
    "colab_type": "code",
    "id": "0oMlQMTiV0aS",
    "outputId": "76151aff-7645-45d4-b88a-3dd50de37316"
   },
   "outputs": [
    {
     "data": {
      "image/png": "[encoded data removed]",
      "text/plain": [
       "<Figure size 720x360 with 1 Axes>"
      ]
     },
     "metadata": {
      "needs_background": "light",
      "tags": []
     },
     "output_type": "display_data"
    }
   ],
   "source": [
    "# another thing we can do is plot a boxplot of one variable against the target variable \n",
    "# it is interesting to see how house value distribution differs by CHAS, the categorical variable \n",
    "\n",
    "# here we create a grouped dataframe that includes the target variable\n",
    "grouped_df = boston_X.copy()   # note we create a copy of the data here so that any changes don't impact the original data\n",
    "grouped_df['target'] = boston_y.copy()\n",
    "\n",
    "# we then plot it here\n",
    "f, axes = plt.subplots(1, 1, figsize=(10, 5))   \n",
    "grouped_df.boxplot(column='target', by = 'CHAS', ax = axes)\n",
    "plt.show()\n",
    "\n",
    "\n",
    "#The `interquartile range`for houses next to the river is higher than for those houses not next to the river, and the `min` and `max` values differ too.\n",
    "\n",
    "#This suggests this could be an important variable for us to include in our model, given that as it differs, the target value distribution changes.\n"
   ]
  },
  {
   "cell_type": "markdown",
   "metadata": {
    "colab_type": "text",
    "id": "aL5zpORqV0ad"
   },
   "source": [
    "We can extend this sort of analysis by creating a heatmap\n",
    "This shows the correlation between the features and target\n",
    "\n",
    "\n",
    "#### Preprocess the data\n",
    "* We proprocess the data to ensure it is a suitable state for modelling. The sort of things that we do to preprocess the data includes:\n",
    "  * *Dealing with missing values*, where we identify what, if, any missing data we have and how to deal with it. For example, we may replace missing values with the mean value for that feature, or by the average of the neighbouring values. \n",
    "    * `pandas` has a number of options for filling in missing data that is worth exploring\n",
    "    * We can also use `k-nearest neighbour`to help us predict what the missing values should be, or `sklearn Imputer` function (amongst other ways)\n",
    "  * *Treat categorical values*, by converting them into a numerical representation that can be modelled.\n",
    "    * There are a number of different ways to do this in `sklearn` and `pandas`\n",
    "  * *Normalise the data*, for example by ensuring the data is, for example all on the scale (such as within two defined values); normally distributed; has a zero-mean, etc. This is sometimes necessary for the ML models to work, and can also help speed up the time it takes for the models to run.  \n",
    "    * Again, `sklearn` and `pandas` have in-built functions to help you do this.\n",
    "* In this notebook, we will look to remove `outliers`, which are values that might be erroneous and which can over-influence the model, and `normalize` the data\n",
    "\n"
   ]
  },
  {
   "cell_type": "code",
   "execution_count": 10,
   "metadata": {
    "colab": {},
    "colab_type": "code",
    "id": "IJmWevxDV0ag"
   },
   "outputs": [],
   "source": [
    "# lets start by removing outliers\n",
    "\n",
    "# here we define the columns where we have identified there could be outliers\n",
    "numeric_columns = ['CRIM', 'ZN', 'INDUS', 'NOX', 'RM', 'AGE', 'DIS', 'RAD', 'TAX', 'PTRATIO', 'B', 'LSTAT']\n",
    "\n",
    "# this function can be used on any dataset to return a list of index values for the outliers \n",
    "def get_outliers(data, columns):\n",
    "    # we create an empty list\n",
    "    outlier_idxs = []\n",
    "    for col in columns:\n",
    "        elements = data[col]\n",
    "        # we get the mean value for each column\n",
    "        mean = elements.mean()\n",
    "        # and the standard deviation of the column\n",
    "        sd = elements.std()\n",
    "        # we then get the index values of all values higher or lower than the mean +/- 2 standard deviations\n",
    "        outliers_mask = data[(data[col] > mean + 3*sd) | (data[col]  < mean  - 3*sd)].index\n",
    "        # and add those values to our list\n",
    "        outlier_idxs  += [x for x in outliers_mask]\n",
    "    return list(set(outlier_idxs))\n",
    "\n",
    "# we call the function we just created on the boston dataset\n",
    "boston_outliers = get_outliers(boston_X, numeric_columns)\n",
    "\n",
    "# and drop those values from our feature and target values\n",
    "boston_X = boston_X.drop(boston_outliers, axis = 0)\n",
    "boston_y = pd.DataFrame(boston_y).drop(boston_outliers, axis = 0).values.ravel()"
   ]
  },
  {
   "cell_type": "code",
   "execution_count": 11,
   "metadata": {
    "colab": {
     "base_uri": "https://localhost:8080/",
     "height": 398
    },
    "colab_type": "code",
    "id": "ZyByf0YeV0am",
    "outputId": "0a664f5e-d2ac-4389-e509-c7d9db05246e"
   },
   "outputs": [
    {
     "name": "stdout",
     "output_type": "stream",
     "text": [
      "(448, 13)\n",
      "(448,)\n"
     ]
    },
    {
     "data": {
      "text/html": [
       "<div>\n",
       "<style scoped>\n",
       "    .dataframe tbody tr th:only-of-type {\n",
       "        vertical-align: middle;\n",
       "    }\n",
       "\n",
       "    .dataframe tbody tr th {\n",
       "        vertical-align: top;\n",
       "    }\n",
       "\n",
       "    .dataframe thead th {\n",
       "        text-align: right;\n",
       "    }\n",
       "</style>\n",
       "<table border=\"1\" class=\"dataframe\">\n",
       "  <thead>\n",
       "    <tr style=\"text-align: right;\">\n",
       "      <th></th>\n",
       "      <th>CRIM</th>\n",
       "      <th>ZN</th>\n",
       "      <th>INDUS</th>\n",
       "      <th>CHAS</th>\n",
       "      <th>NOX</th>\n",
       "      <th>RM</th>\n",
       "      <th>AGE</th>\n",
       "      <th>DIS</th>\n",
       "      <th>RAD</th>\n",
       "      <th>TAX</th>\n",
       "      <th>PTRATIO</th>\n",
       "      <th>B</th>\n",
       "      <th>LSTAT</th>\n",
       "    </tr>\n",
       "  </thead>\n",
       "  <tbody>\n",
       "    <tr>\n",
       "      <th>0</th>\n",
       "      <td>0.00632</td>\n",
       "      <td>18.0</td>\n",
       "      <td>2.31</td>\n",
       "      <td>0.0</td>\n",
       "      <td>0.538</td>\n",
       "      <td>6.575</td>\n",
       "      <td>65.2</td>\n",
       "      <td>4.0900</td>\n",
       "      <td>1.0</td>\n",
       "      <td>296.0</td>\n",
       "      <td>15.3</td>\n",
       "      <td>396.90</td>\n",
       "      <td>4.98</td>\n",
       "    </tr>\n",
       "    <tr>\n",
       "      <th>1</th>\n",
       "      <td>0.02731</td>\n",
       "      <td>0.0</td>\n",
       "      <td>7.07</td>\n",
       "      <td>0.0</td>\n",
       "      <td>0.469</td>\n",
       "      <td>6.421</td>\n",
       "      <td>78.9</td>\n",
       "      <td>4.9671</td>\n",
       "      <td>2.0</td>\n",
       "      <td>242.0</td>\n",
       "      <td>17.8</td>\n",
       "      <td>396.90</td>\n",
       "      <td>9.14</td>\n",
       "    </tr>\n",
       "    <tr>\n",
       "      <th>2</th>\n",
       "      <td>0.02729</td>\n",
       "      <td>0.0</td>\n",
       "      <td>7.07</td>\n",
       "      <td>0.0</td>\n",
       "      <td>0.469</td>\n",
       "      <td>7.185</td>\n",
       "      <td>61.1</td>\n",
       "      <td>4.9671</td>\n",
       "      <td>2.0</td>\n",
       "      <td>242.0</td>\n",
       "      <td>17.8</td>\n",
       "      <td>392.83</td>\n",
       "      <td>4.03</td>\n",
       "    </tr>\n",
       "    <tr>\n",
       "      <th>3</th>\n",
       "      <td>0.03237</td>\n",
       "      <td>0.0</td>\n",
       "      <td>2.18</td>\n",
       "      <td>0.0</td>\n",
       "      <td>0.458</td>\n",
       "      <td>6.998</td>\n",
       "      <td>45.8</td>\n",
       "      <td>6.0622</td>\n",
       "      <td>3.0</td>\n",
       "      <td>222.0</td>\n",
       "      <td>18.7</td>\n",
       "      <td>394.63</td>\n",
       "      <td>2.94</td>\n",
       "    </tr>\n",
       "    <tr>\n",
       "      <th>4</th>\n",
       "      <td>0.06905</td>\n",
       "      <td>0.0</td>\n",
       "      <td>2.18</td>\n",
       "      <td>0.0</td>\n",
       "      <td>0.458</td>\n",
       "      <td>7.147</td>\n",
       "      <td>54.2</td>\n",
       "      <td>6.0622</td>\n",
       "      <td>3.0</td>\n",
       "      <td>222.0</td>\n",
       "      <td>18.7</td>\n",
       "      <td>396.90</td>\n",
       "      <td>5.33</td>\n",
       "    </tr>\n",
       "    <tr>\n",
       "      <th>5</th>\n",
       "      <td>0.02985</td>\n",
       "      <td>0.0</td>\n",
       "      <td>2.18</td>\n",
       "      <td>0.0</td>\n",
       "      <td>0.458</td>\n",
       "      <td>6.430</td>\n",
       "      <td>58.7</td>\n",
       "      <td>6.0622</td>\n",
       "      <td>3.0</td>\n",
       "      <td>222.0</td>\n",
       "      <td>18.7</td>\n",
       "      <td>394.12</td>\n",
       "      <td>5.21</td>\n",
       "    </tr>\n",
       "    <tr>\n",
       "      <th>6</th>\n",
       "      <td>0.08829</td>\n",
       "      <td>12.5</td>\n",
       "      <td>7.87</td>\n",
       "      <td>0.0</td>\n",
       "      <td>0.524</td>\n",
       "      <td>6.012</td>\n",
       "      <td>66.6</td>\n",
       "      <td>5.5605</td>\n",
       "      <td>5.0</td>\n",
       "      <td>311.0</td>\n",
       "      <td>15.2</td>\n",
       "      <td>395.60</td>\n",
       "      <td>12.43</td>\n",
       "    </tr>\n",
       "    <tr>\n",
       "      <th>7</th>\n",
       "      <td>0.14455</td>\n",
       "      <td>12.5</td>\n",
       "      <td>7.87</td>\n",
       "      <td>0.0</td>\n",
       "      <td>0.524</td>\n",
       "      <td>6.172</td>\n",
       "      <td>96.1</td>\n",
       "      <td>5.9505</td>\n",
       "      <td>5.0</td>\n",
       "      <td>311.0</td>\n",
       "      <td>15.2</td>\n",
       "      <td>396.90</td>\n",
       "      <td>19.15</td>\n",
       "    </tr>\n",
       "    <tr>\n",
       "      <th>8</th>\n",
       "      <td>0.21124</td>\n",
       "      <td>12.5</td>\n",
       "      <td>7.87</td>\n",
       "      <td>0.0</td>\n",
       "      <td>0.524</td>\n",
       "      <td>5.631</td>\n",
       "      <td>100.0</td>\n",
       "      <td>6.0821</td>\n",
       "      <td>5.0</td>\n",
       "      <td>311.0</td>\n",
       "      <td>15.2</td>\n",
       "      <td>386.63</td>\n",
       "      <td>29.93</td>\n",
       "    </tr>\n",
       "    <tr>\n",
       "      <th>9</th>\n",
       "      <td>0.17004</td>\n",
       "      <td>12.5</td>\n",
       "      <td>7.87</td>\n",
       "      <td>0.0</td>\n",
       "      <td>0.524</td>\n",
       "      <td>6.004</td>\n",
       "      <td>85.9</td>\n",
       "      <td>6.5921</td>\n",
       "      <td>5.0</td>\n",
       "      <td>311.0</td>\n",
       "      <td>15.2</td>\n",
       "      <td>386.71</td>\n",
       "      <td>17.10</td>\n",
       "    </tr>\n",
       "  </tbody>\n",
       "</table>\n",
       "</div>"
      ],
      "text/plain": [
       "      CRIM    ZN  INDUS  CHAS    NOX  ...  RAD    TAX  PTRATIO       B  LSTAT\n",
       "0  0.00632  18.0   2.31   0.0  0.538  ...  1.0  296.0     15.3  396.90   4.98\n",
       "1  0.02731   0.0   7.07   0.0  0.469  ...  2.0  242.0     17.8  396.90   9.14\n",
       "2  0.02729   0.0   7.07   0.0  0.469  ...  2.0  242.0     17.8  392.83   4.03\n",
       "3  0.03237   0.0   2.18   0.0  0.458  ...  3.0  222.0     18.7  394.63   2.94\n",
       "4  0.06905   0.0   2.18   0.0  0.458  ...  3.0  222.0     18.7  396.90   5.33\n",
       "5  0.02985   0.0   2.18   0.0  0.458  ...  3.0  222.0     18.7  394.12   5.21\n",
       "6  0.08829  12.5   7.87   0.0  0.524  ...  5.0  311.0     15.2  395.60  12.43\n",
       "7  0.14455  12.5   7.87   0.0  0.524  ...  5.0  311.0     15.2  396.90  19.15\n",
       "8  0.21124  12.5   7.87   0.0  0.524  ...  5.0  311.0     15.2  386.63  29.93\n",
       "9  0.17004  12.5   7.87   0.0  0.524  ...  5.0  311.0     15.2  386.71  17.10\n",
       "\n",
       "[10 rows x 13 columns]"
      ]
     },
     "execution_count": 11,
     "metadata": {
      "tags": []
     },
     "output_type": "execute_result"
    }
   ],
   "source": [
    "# we can check that this code has worked by looking at the shape of our data \n",
    "print (boston_X.shape)\n",
    "print (boston_y.shape)\n",
    "\n",
    "# we can also create a function to normalize our data\n",
    "# first lets look at the data before normalisation\n",
    "boston_X[0:10]"
   ]
  },
  {
   "cell_type": "code",
   "execution_count": 12,
   "metadata": {
    "colab": {
     "base_uri": "https://localhost:8080/",
     "height": 383
    },
    "colab_type": "code",
    "id": "OAmdRz8yV0a0",
    "outputId": "6eef8b8e-949e-4ed3-e95b-1e83699f1368"
   },
   "outputs": [
    {
     "data": {
      "text/html": [
       "<div>\n",
       "<style scoped>\n",
       "    .dataframe tbody tr th:only-of-type {\n",
       "        vertical-align: middle;\n",
       "    }\n",
       "\n",
       "    .dataframe tbody tr th {\n",
       "        vertical-align: top;\n",
       "    }\n",
       "\n",
       "    .dataframe thead th {\n",
       "        text-align: right;\n",
       "    }\n",
       "</style>\n",
       "<table border=\"1\" class=\"dataframe\">\n",
       "  <thead>\n",
       "    <tr style=\"text-align: right;\">\n",
       "      <th></th>\n",
       "      <th>CRIM</th>\n",
       "      <th>ZN</th>\n",
       "      <th>INDUS</th>\n",
       "      <th>CHAS</th>\n",
       "      <th>NOX</th>\n",
       "      <th>RM</th>\n",
       "      <th>AGE</th>\n",
       "      <th>DIS</th>\n",
       "      <th>RAD</th>\n",
       "      <th>TAX</th>\n",
       "      <th>PTRATIO</th>\n",
       "      <th>B</th>\n",
       "      <th>LSTAT</th>\n",
       "    </tr>\n",
       "  </thead>\n",
       "  <tbody>\n",
       "    <tr>\n",
       "      <th>0</th>\n",
       "      <td>-0.504832</td>\n",
       "      <td>0.452338</td>\n",
       "      <td>-1.287999</td>\n",
       "      <td>0.0</td>\n",
       "      <td>-0.112050</td>\n",
       "      <td>0.476523</td>\n",
       "      <td>-0.109538</td>\n",
       "      <td>0.156542</td>\n",
       "      <td>-0.945356</td>\n",
       "      <td>-0.604081</td>\n",
       "      <td>-1.450825</td>\n",
       "      <td>0.440289</td>\n",
       "      <td>-1.119947</td>\n",
       "    </tr>\n",
       "    <tr>\n",
       "      <th>1</th>\n",
       "      <td>-0.500421</td>\n",
       "      <td>-0.483198</td>\n",
       "      <td>-0.581070</td>\n",
       "      <td>0.0</td>\n",
       "      <td>-0.719553</td>\n",
       "      <td>0.229485</td>\n",
       "      <td>0.384908</td>\n",
       "      <td>0.611427</td>\n",
       "      <td>-0.822846</td>\n",
       "      <td>-0.940064</td>\n",
       "      <td>-0.280299</td>\n",
       "      <td>0.440289</td>\n",
       "      <td>-0.477428</td>\n",
       "    </tr>\n",
       "    <tr>\n",
       "      <th>2</th>\n",
       "      <td>-0.500425</td>\n",
       "      <td>-0.483198</td>\n",
       "      <td>-0.581070</td>\n",
       "      <td>0.0</td>\n",
       "      <td>-0.719553</td>\n",
       "      <td>1.455050</td>\n",
       "      <td>-0.257510</td>\n",
       "      <td>0.611427</td>\n",
       "      <td>-0.822846</td>\n",
       "      <td>-0.940064</td>\n",
       "      <td>-0.280299</td>\n",
       "      <td>0.361572</td>\n",
       "      <td>-1.266676</td>\n",
       "    </tr>\n",
       "    <tr>\n",
       "      <th>3</th>\n",
       "      <td>-0.499358</td>\n",
       "      <td>-0.483198</td>\n",
       "      <td>-1.307306</td>\n",
       "      <td>0.0</td>\n",
       "      <td>-0.816402</td>\n",
       "      <td>1.155075</td>\n",
       "      <td>-0.809702</td>\n",
       "      <td>1.179373</td>\n",
       "      <td>-0.700335</td>\n",
       "      <td>-1.064503</td>\n",
       "      <td>0.141090</td>\n",
       "      <td>0.396385</td>\n",
       "      <td>-1.435028</td>\n",
       "    </tr>\n",
       "    <tr>\n",
       "      <th>4</th>\n",
       "      <td>-0.491650</td>\n",
       "      <td>-0.483198</td>\n",
       "      <td>-1.307306</td>\n",
       "      <td>0.0</td>\n",
       "      <td>-0.816402</td>\n",
       "      <td>1.394092</td>\n",
       "      <td>-0.506538</td>\n",
       "      <td>1.179373</td>\n",
       "      <td>-0.700335</td>\n",
       "      <td>-1.064503</td>\n",
       "      <td>0.141090</td>\n",
       "      <td>0.440289</td>\n",
       "      <td>-1.065889</td>\n",
       "    </tr>\n",
       "    <tr>\n",
       "      <th>5</th>\n",
       "      <td>-0.499887</td>\n",
       "      <td>-0.483198</td>\n",
       "      <td>-1.307306</td>\n",
       "      <td>0.0</td>\n",
       "      <td>-0.816402</td>\n",
       "      <td>0.243923</td>\n",
       "      <td>-0.344129</td>\n",
       "      <td>1.179373</td>\n",
       "      <td>-0.700335</td>\n",
       "      <td>-1.064503</td>\n",
       "      <td>0.141090</td>\n",
       "      <td>0.386522</td>\n",
       "      <td>-1.084423</td>\n",
       "    </tr>\n",
       "    <tr>\n",
       "      <th>6</th>\n",
       "      <td>-0.487607</td>\n",
       "      <td>0.166480</td>\n",
       "      <td>-0.462258</td>\n",
       "      <td>0.0</td>\n",
       "      <td>-0.235311</td>\n",
       "      <td>-0.426609</td>\n",
       "      <td>-0.059010</td>\n",
       "      <td>0.919179</td>\n",
       "      <td>-0.455313</td>\n",
       "      <td>-0.510752</td>\n",
       "      <td>-1.497647</td>\n",
       "      <td>0.415146</td>\n",
       "      <td>0.030718</td>\n",
       "    </tr>\n",
       "    <tr>\n",
       "      <th>7</th>\n",
       "      <td>-0.475784</td>\n",
       "      <td>0.166480</td>\n",
       "      <td>-0.462258</td>\n",
       "      <td>0.0</td>\n",
       "      <td>-0.235311</td>\n",
       "      <td>-0.169946</td>\n",
       "      <td>1.005672</td>\n",
       "      <td>1.121443</td>\n",
       "      <td>-0.455313</td>\n",
       "      <td>-0.510752</td>\n",
       "      <td>-1.497647</td>\n",
       "      <td>0.440289</td>\n",
       "      <td>1.068633</td>\n",
       "    </tr>\n",
       "    <tr>\n",
       "      <th>8</th>\n",
       "      <td>-0.461770</td>\n",
       "      <td>0.166480</td>\n",
       "      <td>-0.462258</td>\n",
       "      <td>0.0</td>\n",
       "      <td>-0.235311</td>\n",
       "      <td>-1.037787</td>\n",
       "      <td>1.146427</td>\n",
       "      <td>1.189694</td>\n",
       "      <td>-0.455313</td>\n",
       "      <td>-0.510752</td>\n",
       "      <td>-1.497647</td>\n",
       "      <td>0.241660</td>\n",
       "      <td>2.733621</td>\n",
       "    </tr>\n",
       "    <tr>\n",
       "      <th>9</th>\n",
       "      <td>-0.470428</td>\n",
       "      <td>0.166480</td>\n",
       "      <td>-0.462258</td>\n",
       "      <td>0.0</td>\n",
       "      <td>-0.235311</td>\n",
       "      <td>-0.439442</td>\n",
       "      <td>0.637545</td>\n",
       "      <td>1.454193</td>\n",
       "      <td>-0.455313</td>\n",
       "      <td>-0.510752</td>\n",
       "      <td>-1.497647</td>\n",
       "      <td>0.243207</td>\n",
       "      <td>0.752007</td>\n",
       "    </tr>\n",
       "  </tbody>\n",
       "</table>\n",
       "</div>"
      ],
      "text/plain": [
       "       CRIM        ZN     INDUS  CHAS  ...       TAX   PTRATIO         B     LSTAT\n",
       "0 -0.504832  0.452338 -1.287999   0.0  ... -0.604081 -1.450825  0.440289 -1.119947\n",
       "1 -0.500421 -0.483198 -0.581070   0.0  ... -0.940064 -0.280299  0.440289 -0.477428\n",
       "2 -0.500425 -0.483198 -0.581070   0.0  ... -0.940064 -0.280299  0.361572 -1.266676\n",
       "3 -0.499358 -0.483198 -1.307306   0.0  ... -1.064503  0.141090  0.396385 -1.435028\n",
       "4 -0.491650 -0.483198 -1.307306   0.0  ... -1.064503  0.141090  0.440289 -1.065889\n",
       "5 -0.499887 -0.483198 -1.307306   0.0  ... -1.064503  0.141090  0.386522 -1.084423\n",
       "6 -0.487607  0.166480 -0.462258   0.0  ... -0.510752 -1.497647  0.415146  0.030718\n",
       "7 -0.475784  0.166480 -0.462258   0.0  ... -0.510752 -1.497647  0.440289  1.068633\n",
       "8 -0.461770  0.166480 -0.462258   0.0  ... -0.510752 -1.497647  0.241660  2.733621\n",
       "9 -0.470428  0.166480 -0.462258   0.0  ... -0.510752 -1.497647  0.243207  0.752007\n",
       "\n",
       "[10 rows x 13 columns]"
      ]
     },
     "execution_count": 12,
     "metadata": {
      "tags": []
     },
     "output_type": "execute_result"
    }
   ],
   "source": [
    "# this function loops through columns in a data set and defines a predefined scaler to each\n",
    "def scale_numeric(data, numeric_columns, scaler):\n",
    "    for col in numeric_columns:\n",
    "        data[col] = scaler.fit_transform(data[col].values.reshape(-1, 1))\n",
    "    return data\n",
    "\n",
    "# we can now define the scaler we want to use and apply it to our dataset \n",
    "\n",
    "# a good exercise would be to research what StandardScaler does - it is from the scikit learn library \n",
    "scaler = StandardScaler()\n",
    "boston_X = scale_numeric(boston_X, numeric_columns, scaler)\n",
    "\n",
    "# here we can see the result \n",
    "boston_X[0:10]\n"
   ]
  },
  {
   "cell_type": "code",
   "execution_count": 13,
   "metadata": {
    "colab": {
     "base_uri": "https://localhost:8080/",
     "height": 156
    },
    "colab_type": "code",
    "id": "XH_PVt6cV0bF",
    "outputId": "4e9745f3-6110-4b65-8281-87f81deafe74"
   },
   "outputs": [
    {
     "name": "stdout",
     "output_type": "stream",
     "text": [
      "Training Set:\n",
      "Number of datapoints:  358\n",
      "Number of features:  13\n",
      "\n",
      "\n",
      "Test Set:\n",
      "Number of datapoints:  90\n",
      "Number of features:  13\n"
     ]
    }
   ],
   "source": [
    "\n",
    "\"\"\"###  : Split the data\n",
    "* In order to train our model and see how well it performs, we need to split our data into training and testing sets.\n",
    "* We can then train our model on the training set, and test how well it has generalised to the data on the test set.\n",
    "* There are a number of options for how we can split the data, and for what proportion of our original data we set aside for the test set.\n",
    "\"\"\"\n",
    "\n",
    "# a common way for splitting our dataset is using train_test_split \n",
    "\n",
    "# as an exercise, go to the scikit learn documentation to learn more about this function and the parameters available \n",
    "X_train, X_test, Y_train, Y_test = model_selection.train_test_split(boston_X, boston_y, test_size = 0.2, random_state = 5)\n",
    "\n",
    "# get shape of test and training sets\n",
    "print('Training Set:')\n",
    "print('Number of datapoints: ', X_train.shape[0])\n",
    "print('Number of features: ', X_train.shape[1])\n",
    "print('\\n')\n",
    "print('Test Set:')\n",
    "print('Number of datapoints: ', X_test.shape[0])\n",
    "print('Number of features: ', X_test.shape[1])"
   ]
  },
  {
   "cell_type": "code",
   "execution_count": 14,
   "metadata": {
    "colab": {},
    "colab_type": "code",
    "id": "WQQUqCP6V0bR"
   },
   "outputs": [],
   "source": [
    "\n",
    "\"\"\"###  Choose a Baseline algorithm\n",
    "# linear regression is a fairly simple algorithm compared to more complicate regression options, so provides a good baseline\n",
    "\"\"\"\n",
    "### Train and Test the Model\"\"\"\n",
    "\n",
    "lm = LinearRegression()\n",
    "\n",
    "# fitting the model to the data means to train our model on the data\n",
    "# the fit function takes both the X and y variables of the training data \n",
    "lm.fit(X_train, Y_train)\n",
    "\n",
    "# from this, we can generate a set of predictions on our unseen features, X_test\n",
    "Y_pred = lm.predict(X_test)\n"
   ]
  },
  {
   "cell_type": "markdown",
   "metadata": {
    "colab_type": "text",
    "id": "294YmsPYV0be"
   },
   "source": [
    "### Choose an evaluation metric\n",
    "* We then need to compare these predictions with the actual result and measure them in some way.\n",
    "* This is where the selection of evaluation metric is important. For regression, we measure the distance between the predicted and actual answers in some way. The shorter the distance, the more correct the model is. \n",
    "* We cover three common metrics below:\n",
    "  * `Mean Absolute Error`: which provides a mean score for all the predicted versus actual values as an absolute value \n",
    "  * `Means Squared Error`: which provides a mean score for all the predicted versus actual values as a square of the absolute value\n",
    "  * `R2`: which we recommend you research as an exercise to grow your knowledge. WIkipedia and `sklearn` document are a great place to start!\n"
   ]
  },
  {
   "cell_type": "code",
   "execution_count": 15,
   "metadata": {
    "colab": {
     "base_uri": "https://localhost:8080/",
     "height": 374
    },
    "colab_type": "code",
    "id": "IyhAGab1V0bg",
    "outputId": "a22c4f12-df4d-4f89-90f0-41578b2a6917"
   },
   "outputs": [
    {
     "name": "stdout",
     "output_type": "stream",
     "text": [
      "Mean squared error:  13.158908656674946\n",
      "Mean absolute error:  2.8268653411512914\n",
      "R^2 :  0.7869915239011869\n"
     ]
    },
    {
     "data": {
      "text/plain": [
       "2.8268653411512914"
      ]
     },
     "execution_count": 15,
     "metadata": {
      "tags": []
     },
     "output_type": "execute_result"
    },
    {
     "data": {
      "image/png": "[encoded data removed]",
      "text/plain": [
       "<Figure size 432x288 with 1 Axes>"
      ]
     },
     "metadata": {
      "needs_background": "light",
      "tags": []
     },
     "output_type": "display_data"
    }
   ],
   "source": [
    "def evaluate(Y_test, Y_pred):\n",
    "    # this block of code returns all the metrics we are interested in \n",
    "    mse = metrics.mean_squared_error(Y_test, Y_pred)\n",
    "    msa = metrics.mean_absolute_error(Y_test, Y_pred)\n",
    "    r2 = metrics.r2_score(Y_test, Y_pred)\n",
    "\n",
    "    print(\"Mean squared error: \", mse)\n",
    "    print(\"Mean absolute error: \", msa)\n",
    "    print(\"R^2 : \", r2)\n",
    "    \n",
    "    # this creates a chart plotting predicted and actual \n",
    "    plt.scatter(Y_test, Y_pred)\n",
    "    plt.xlabel(\"Prices: $Y_i$\")\n",
    "    plt.ylabel(\"Predicted prices: $\\hat{Y}_i$\")\n",
    "    plt.title(\"Prices vs Predicted prices: $Y_i$ vs $\\hat{Y}_i$\")\n",
    "\n",
    "evaluate(Y_test, Y_pred)\n",
    "\n",
    "# we can explore how metrics are dervied in a little more detail by looking at MAE\n",
    "# here we will implement MAE using numpy, building it up step by step\n",
    "\n",
    "# with MAE, we get the absolute values of the error - as you can see this is of the difference between the actual and predicted values\n",
    "np.abs(Y_test - Y_pred)\n",
    "\n",
    "# we will then sum them up \n",
    "np.sum(np.abs(Y_test - Y_pred))\n",
    "\n",
    "# then divide by the total number of predictions/actual values\n",
    "# as you will see, we get to the same score implemented above \n",
    "np.sum(np.abs(Y_test - Y_pred))/len(Y_test)"
   ]
  },
  {
   "cell_type": "code",
   "execution_count": 16,
   "metadata": {
    "colab": {
     "base_uri": "https://localhost:8080/",
     "height": 34
    },
    "colab_type": "code",
    "id": "K132M-HKV0bp",
    "outputId": "6e356aa6-65a8-4487-b18a-ac171a8e1d81"
   },
   "outputs": [
    {
     "name": "stdout",
     "output_type": "stream",
     "text": [
      "Number of features after dataset refinement:  14\n"
     ]
    }
   ],
   "source": [
    "\"\"\"### : Refine our dataset\n",
    "* This step allows us to add or modify features of the datatset. We might do this if, for example, some combination of features better represents the problems space and so is an indicator of the target variable. \n",
    "* Here, we create one additional feature as an example, but you should reflect on our EDA earlier and see whether there are other features that can be added to our dataset.\n",
    "\"\"\"\n",
    "\n",
    "# here we are using pandas functionality to add a new column called LSTAT_2, which will feature values that are the square of LSTAT values\n",
    "boston_X['LSTAT_2'] = boston_X['LSTAT'].map(lambda x: x**2)\n",
    "\n",
    "# we can run our train_test_split function and see that we have an additional features\n",
    "X_train, X_test, Y_train, Y_test = model_selection.train_test_split(boston_X, boston_y, test_size = 0.2, random_state = 5)\n",
    "\n",
    "print('Number of features after dataset refinement: ', X_train.shape[1])\n"
   ]
  },
  {
   "cell_type": "code",
   "execution_count": 17,
   "metadata": {
    "colab": {
     "base_uri": "https://localhost:8080/",
     "height": 357
    },
    "colab_type": "code",
    "id": "BRu54J3EV0by",
    "outputId": "81125fa5-a9c6-449a-8648-d2027cf6dd1b"
   },
   "outputs": [
    {
     "name": "stdout",
     "output_type": "stream",
     "text": [
      "Mean squared error:  10.774536471890208\n",
      "Mean absolute error:  2.4972843658806774\n",
      "R^2 :  0.8255883026147288\n"
     ]
    },
    {
     "data": {
      "image/png": "[encoded data removed]",
      "text/plain": [
       "<Figure size 432x288 with 1 Axes>"
      ]
     },
     "metadata": {
      "needs_background": "light",
      "tags": []
     },
     "output_type": "display_data"
    }
   ],
   "source": [
    "# we can now run the same code as before on our refined dataset to see if things have improved \n",
    "lm.fit(X_train, Y_train)\n",
    "\n",
    "Y_pred = lm.predict(X_test)\n",
    "\n",
    "evaluate(Y_test, Y_pred)"
   ]
  },
  {
   "cell_type": "code",
   "execution_count": 18,
   "metadata": {
    "colab": {
     "base_uri": "https://localhost:8080/",
     "height": 357
    },
    "colab_type": "code",
    "id": "fMZpG0UsV0b7",
    "outputId": "401e46d1-551f-42a6-faef-e05d95c4e0ac"
   },
   "outputs": [
    {
     "name": "stdout",
     "output_type": "stream",
     "text": [
      "Mean squared error:  5.215974966666669\n",
      "Mean absolute error:  1.6535444444444436\n",
      "R^2 :  0.9155669434291849\n"
     ]
    },
    {
     "data": {
      "image/png": "[encoded data removed]",
      "text/plain": [
       "<Figure size 432x288 with 1 Axes>"
      ]
     },
     "metadata": {
      "needs_background": "light",
      "tags": []
     },
     "output_type": "display_data"
    }
   ],
   "source": [
    "\"\"\"### Test Alternative Models\n",
    "* Once we got a nice baseline model working for this dataset, we also can try something more sophisticated and rather different, e.g. RandomForest Regressor. So, let's do so and also evaluate the result.\n",
    "\"\"\"\n",
    "\n",
    "# as you can see, its very similar code to instantiate the model\n",
    "# we are able to pass in additional parameters as the model is created, so optionally you can view the documentation and play with these values\n",
    "\n",
    "rfr = RandomForestRegressor()\n",
    "rfr.fit(X_train, Y_train)\n",
    "Y_pred = rfr.predict(X_test)\n",
    "\n",
    "evaluate(Y_test, Y_pred)"
   ]
  },
  {
   "cell_type": "code",
   "execution_count": 19,
   "metadata": {
    "colab": {
     "base_uri": "https://localhost:8080/",
     "height": 357
    },
    "colab_type": "code",
    "id": "BpF9CPmoV0cJ",
    "outputId": "ffa58795-f4a7-4e92-e0c1-13ee4186f803"
   },
   "outputs": [
    {
     "name": "stdout",
     "output_type": "stream",
     "text": [
      "Mean squared error:  5.369084118585416\n",
      "Mean absolute error:  1.6607954287566409\n",
      "R^2 :  0.913088504830825\n"
     ]
    },
    {
     "data": {
      "image/png": "[encoded data removed]",
      "text/plain": [
       "<Figure size 432x288 with 1 Axes>"
      ]
     },
     "metadata": {
      "needs_background": "light",
      "tags": []
     },
     "output_type": "display_data"
    }
   ],
   "source": [
    "\"\"\"### : Choose the best model and optimise its parameters\n",
    "* We can see that we have improved our model as we have added features and trained new models.\n",
    "* At the point that we feel comfortable with a good model, we can start to tune the parameters of the model.\n",
    "* There are a number of ways to do this, and a common way is shown below\n",
    "\"\"\"\n",
    "\n",
    "## grid search is a 'brute force' search, one that will explore every possible combination of parameters that you provide it\n",
    "\n",
    "# we first define the parameters we want to search as a dictionary. Explore the documentation to what other options are avaiable\n",
    "params = {'n_estimators': [100, 200], 'max_depth' : [2, 10, 20]}\n",
    "\n",
    "# we then create a grid search object with our chosen model and paramters. We also use cross validation here - explored more in Day 2\n",
    "grid = model_selection.GridSearchCV(rfr, params, cv=5)\n",
    "\n",
    "# we fit our model to the data as before\n",
    "grid.fit(X_train, Y_train)\n",
    "\n",
    "# one output of the grid search function is that we can get the best_estimator - the model and parameters that scored best on the training data - \n",
    "#  and save it as a new a model\n",
    "best_model = grid.best_estimator_\n",
    "\n",
    "# and use it to predict and evaluate as before\n",
    "Y_pred = best_model.predict(X_test)\n",
    "\n",
    "evaluate(Y_test, Y_pred)\n"
   ]
  },
  {
   "cell_type": "code",
   "execution_count": null,
   "metadata": {
    "colab": {},
    "colab_type": "code",
    "id": "8OaxPgz6V0cU"
   },
   "outputs": [],
   "source": []
  }
 ],
 "metadata": {
  "colab": {
   "collapsed_sections": [],
   "name": "Regression-apr19.ipynb",
   "provenance": []
  },
  "kernelspec": {
   "display_name": "Python 3",
   "language": "python",
   "name": "python3"
  },
  "language_info": {
   "codemirror_mode": {
    "name": "ipython",
    "version": 3
   },
   "file_extension": ".py",
   "mimetype": "text/x-python",
   "name": "python",
   "nbconvert_exporter": "python",
   "pygments_lexer": "ipython3",
   "version": "3.6.8"
  }
 },
 "nbformat": 4,
 "nbformat_minor": 1
}
